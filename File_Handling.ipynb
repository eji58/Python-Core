{
  "nbformat": 4,
  "nbformat_minor": 0,
  "metadata": {
    "colab": {
      "name": "File-Handling.ipynb",
      "private_outputs": true,
      "provenance": [],
      "toc_visible": true,
      "authorship_tag": "ABX9TyNoz54KtXeY5tY5vfT1NPGT",
      "include_colab_link": true
    },
    "kernelspec": {
      "name": "python3",
      "display_name": "Python 3"
    },
    "language_info": {
      "name": "python"
    }
  },
  "cells": [
    {
      "cell_type": "markdown",
      "metadata": {
        "id": "view-in-github",
        "colab_type": "text"
      },
      "source": [
        "<a href=\"https://colab.research.google.com/github/eji58/Python-Core/blob/main/File_Handling.ipynb\" target=\"_parent\"><img src=\"https://colab.research.google.com/assets/colab-badge.svg\" alt=\"Open In Colab\"/></a>"
      ]
    },
    {
      "cell_type": "markdown",
      "source": [
        "# File Handling\n"
      ],
      "metadata": {
        "id": "a-DsHjWnMrxr"
      }
    },
    {
      "cell_type": "code",
      "source": [
        "# mode\n",
        "# r - read\n",
        "# a - append\n",
        "# w - write"
      ],
      "metadata": {
        "id": "nfDgm1YrMrmK"
      },
      "execution_count": null,
      "outputs": []
    },
    {
      "cell_type": "markdown",
      "source": [
        "#Write"
      ],
      "metadata": {
        "id": "adVhaL5IWPjv"
      }
    },
    {
      "cell_type": "code",
      "execution_count": null,
      "metadata": {
        "id": "a6LadNXGLAsb"
      },
      "outputs": [],
      "source": [
        "f = open(\"indore.txt\",'w')\n",
        "f.write(\"hello from Saudia.\")\n",
        "f.close()"
      ]
    },
    {
      "cell_type": "markdown",
      "source": [
        "# Append"
      ],
      "metadata": {
        "id": "2Gyl7VSCXynD"
      }
    },
    {
      "cell_type": "code",
      "source": [
        "f = open(\"indore.txt\", 'a')\n",
        "f.write(\" string from append mode\")\n",
        "f.close()"
      ],
      "metadata": {
        "id": "YrDnd-ElWUTQ"
      },
      "execution_count": null,
      "outputs": []
    },
    {
      "cell_type": "markdown",
      "source": [
        "# Read "
      ],
      "metadata": {
        "id": "MiYQO4KLWbZ9"
      }
    },
    {
      "cell_type": "code",
      "source": [
        "f = open(\"indore.txt\")\n",
        "f.read()"
      ],
      "metadata": {
        "id": "QM2H3zKhWbHG"
      },
      "execution_count": null,
      "outputs": []
    }
  ]
}