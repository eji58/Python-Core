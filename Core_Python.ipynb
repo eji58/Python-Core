{
  "nbformat": 4,
  "nbformat_minor": 0,
  "metadata": {
    "colab": {
      "name": "Core_Python.ipynb",
      "private_outputs": true,
      "provenance": [],
      "collapsed_sections": [],
      "toc_visible": true,
      "authorship_tag": "ABX9TyOBM+StOeWD2d8ulAdnXCME",
      "include_colab_link": true
    },
    "kernelspec": {
      "name": "python3",
      "display_name": "Python 3"
    },
    "language_info": {
      "name": "python"
    }
  },
  "cells": [
    {
      "cell_type": "markdown",
      "metadata": {
        "id": "view-in-github",
        "colab_type": "text"
      },
      "source": [
        "<a href=\"https://colab.research.google.com/github/eji58/Python-Core/blob/main/Core_Python.ipynb\" target=\"_parent\"><img src=\"https://colab.research.google.com/assets/colab-badge.svg\" alt=\"Open In Colab\"/></a>"
      ]
    },
    {
      "cell_type": "markdown",
      "source": [
        "####First code!\n",
        "\n"
      ],
      "metadata": {
        "id": "dW-Yv1cTfZDF"
      }
    },
    {
      "cell_type": "code",
      "source": [
        "import sys\n",
        "sys.version;\n",
        "sys.argv"
      ],
      "metadata": {
        "id": "2FLno126fYy7"
      },
      "execution_count": null,
      "outputs": []
    },
    {
      "cell_type": "code",
      "source": [
        "help(sys)"
      ],
      "metadata": {
        "id": "O_JYqCp4fMFt"
      },
      "execution_count": null,
      "outputs": []
    },
    {
      "cell_type": "code",
      "source": [
        "print(\"Holle World!\")"
      ],
      "metadata": {
        "id": "DBK2EJoufMAR"
      },
      "execution_count": null,
      "outputs": []
    },
    {
      "cell_type": "markdown",
      "source": [
        "####Data Types!"
      ],
      "metadata": {
        "id": "DSKKh-u3gAhR"
      }
    },
    {
      "cell_type": "code",
      "source": [
        "#String \n",
        "a='Esraa sultan'\n",
        "#Integer & Flaot\n",
        "b=7 ; c =5.1\n",
        "#Boolen\n",
        "d=True\n",
        "e=False\n",
        "a,b,c,d,e"
      ],
      "metadata": {
        "id": "4Vo9GK9RfL8t"
      },
      "execution_count": null,
      "outputs": []
    },
    {
      "cell_type": "code",
      "source": [
        "#check dataType\n",
        "type(a),type(b),type(c),type(d),type(e)"
      ],
      "metadata": {
        "id": "cQMmnz8LfL5Q"
      },
      "execution_count": null,
      "outputs": []
    },
    {
      "cell_type": "code",
      "source": [
        "#convert between the types\n",
        "str(b),int(d),int(e)"
      ],
      "metadata": {
        "id": "g18Q5xTkfLri"
      },
      "execution_count": null,
      "outputs": []
    },
    {
      "cell_type": "code",
      "source": [
        "9/7,type(9/7),9//7,type(9//7)"
      ],
      "metadata": {
        "id": "Gi5uY_ZCcc9D"
      },
      "execution_count": null,
      "outputs": []
    },
    {
      "cell_type": "markdown",
      "source": [
        "###Operators"
      ],
      "metadata": {
        "id": "XD0e-0l1HpL_"
      }
    },
    {
      "cell_type": "markdown",
      "source": [
        "####Arithmetics "
      ],
      "metadata": {
        "id": "otYUzUrRnRbd"
      }
    },
    {
      "cell_type": "code",
      "source": [
        "#Addation\n",
        "a=9+7\n",
        "#Substraction\n",
        "b=9-7\n",
        "#Multiplication\n",
        "c=9*7\n",
        "#Division\n",
        "d=9/7\n",
        "#Floor Division\n",
        "e=9//7\n",
        "#Modulus\n",
        "f=9%7\n",
        "#Exponentiation\n",
        "g=9**7\n",
        "a,b,c,d,e,f,g"
      ],
      "metadata": {
        "id": "5hN_YA3Fcddn"
      },
      "execution_count": null,
      "outputs": []
    },
    {
      "cell_type": "code",
      "source": [
        "#An example: let's try to calculate how many hours in 360 minutes?\n",
        "one_hour=60 #min\n",
        "num_min=360\n",
        "num_hour=num_min/one_hour\n",
        "print(int(num_hour), \"hours\")"
      ],
      "metadata": {
        "id": "phqpkrgAoczA"
      },
      "execution_count": null,
      "outputs": []
    },
    {
      "cell_type": "code",
      "source": [
        "#store values in one line\n",
        "a,b,c=1,2,3\n",
        "a,b,c"
      ],
      "metadata": {
        "id": "iydBG2X5ocvT"
      },
      "execution_count": null,
      "outputs": []
    },
    {
      "cell_type": "markdown",
      "source": [
        "####Logical"
      ],
      "metadata": {
        "id": "5fDqqLLDIIlX"
      }
    },
    {
      "cell_type": "code",
      "source": [
        "#And \n",
        "True  and True, True  and False, False and True, False and False"
      ],
      "metadata": {
        "id": "nuVXq81CIIaY"
      },
      "execution_count": null,
      "outputs": []
    },
    {
      "cell_type": "code",
      "source": [
        "#Or\n",
        "True  or True, True  or False, False or True, False or False"
      ],
      "metadata": {
        "id": "NiNiJO6mIH8X"
      },
      "execution_count": null,
      "outputs": []
    },
    {
      "cell_type": "code",
      "source": [
        "#Not\n",
        "not True, not False"
      ],
      "metadata": {
        "id": "r1DXJ2NQIH5l"
      },
      "execution_count": null,
      "outputs": []
    },
    {
      "cell_type": "markdown",
      "source": [
        "####Relational "
      ],
      "metadata": {
        "id": "EMu-aNuIJP21"
      }
    },
    {
      "cell_type": "code",
      "source": [
        "# > , < \n",
        "7>8,8>7"
      ],
      "metadata": {
        "id": "fhVyi47pIH22"
      },
      "execution_count": null,
      "outputs": []
    },
    {
      "cell_type": "code",
      "source": [
        "# >=  , <=  \n",
        "7>=8,8>=7,7>=7,8>=8"
      ],
      "metadata": {
        "id": "izlZ15zEJmmH"
      },
      "execution_count": null,
      "outputs": []
    },
    {
      "cell_type": "code",
      "source": [
        "# != , ==\n",
        "7!=8,8==7"
      ],
      "metadata": {
        "id": "yHRsLfW-Jqip"
      },
      "execution_count": null,
      "outputs": []
    },
    {
      "cell_type": "markdown",
      "source": [
        "####Assignment \n"
      ],
      "metadata": {
        "id": "TFy80zUvKAKL"
      }
    },
    {
      "cell_type": "code",
      "source": [
        "# = , += , -= *= , /= , %= , //= , **=\n",
        "a=7\n",
        "a **= 5   # a = a + 5\n",
        "a"
      ],
      "metadata": {
        "id": "Rxnby-kWIHz2"
      },
      "execution_count": null,
      "outputs": []
    },
    {
      "cell_type": "markdown",
      "source": [
        "####Bitwise \n"
      ],
      "metadata": {
        "id": "dty0K0X-K7Ei"
      }
    },
    {
      "cell_type": "code",
      "source": [
        "#  &  bitwise and\n",
        "0  &  0 ,0  &  1, 1  &  0 ,1  &  1 \n"
      ],
      "metadata": {
        "id": "ra9mFp7dKDgM"
      },
      "execution_count": null,
      "outputs": []
    },
    {
      "cell_type": "code",
      "source": [
        "#  |  bitwise  or\n",
        "0  |  0 ,0  |  1, 1  |  0 ,1  |  1 "
      ],
      "metadata": {
        "id": "7FEZcNDcNmxw"
      },
      "execution_count": null,
      "outputs": []
    },
    {
      "cell_type": "code",
      "source": [
        "#  ^  bitwise  xor\n",
        "0  ^  0 ,0  ^  1, 1  ^  0 ,1  ^  1 "
      ],
      "metadata": {
        "id": "MlTnd1iOOGES"
      },
      "execution_count": null,
      "outputs": []
    },
    {
      "cell_type": "code",
      "source": [
        "#  <<  left shift , >>  right shift  --> 128,64,32,16,8,4,2\n",
        "32 << 2,16 >> 2\n"
      ],
      "metadata": {
        "id": "QBTe-TgnOG4m"
      },
      "execution_count": null,
      "outputs": []
    },
    {
      "cell_type": "markdown",
      "source": [
        "###Conditional Statements\n"
      ],
      "metadata": {
        "id": "j9iRkLx-JUKW"
      }
    },
    {
      "cell_type": "code",
      "source": [
        "if True :\n",
        "  print('Hi')\n",
        "else:\n",
        "  print('Hello')"
      ],
      "metadata": {
        "id": "fpXQFQSPJ3ho"
      },
      "execution_count": null,
      "outputs": []
    },
    {
      "cell_type": "code",
      "source": [
        "if ~False : # ~ mean not \n",
        "  print('Hi')\n",
        "else:\n",
        "  print('Hello')"
      ],
      "metadata": {
        "id": "9610YoZjJ3y3"
      },
      "execution_count": null,
      "outputs": []
    },
    {
      "cell_type": "markdown",
      "source": [
        "####Ternary Statement"
      ],
      "metadata": {
        "id": "Jwk93NiZKk2p"
      }
    },
    {
      "cell_type": "code",
      "source": [
        "# value_if_true if condition else value_if_false\n",
        "a =True \n",
        "b =5 if a else 7\n",
        "b"
      ],
      "metadata": {
        "id": "lTSa_R8vJ3_l"
      },
      "execution_count": null,
      "outputs": []
    },
    {
      "cell_type": "code",
      "source": [
        "# (if_test_is_false, if_test_is_true)[test]\n",
        "a =True \n",
        "b =(7,5)[a]\n",
        "b"
      ],
      "metadata": {
        "id": "9ptGpZVPJ4JW"
      },
      "execution_count": null,
      "outputs": []
    },
    {
      "cell_type": "code",
      "source": [
        "# None or 0\n",
        "a= None\n",
        "b= a or 'NoData'\n",
        "b"
      ],
      "metadata": {
        "id": "ro5bCInw698l"
      },
      "execution_count": null,
      "outputs": []
    },
    {
      "cell_type": "markdown",
      "source": [
        " ### Loops Statements\n",
        " "
      ],
      "metadata": {
        "id": "6f-qUyqqJ4Rx"
      }
    },
    {
      "cell_type": "code",
      "source": [
        "i =1\n",
        "while i<=10:\n",
        "  print(i)\n",
        "  i+=1\n"
      ],
      "metadata": {
        "id": "EgZSV-Qi8BTm"
      },
      "execution_count": null,
      "outputs": []
    },
    {
      "cell_type": "code",
      "source": [
        "i =1\n",
        "while i<=10:\n",
        "  print(i,end=\"-\")\n",
        "  i+=1"
      ],
      "metadata": {
        "id": "s5G6MfrD8DBG"
      },
      "execution_count": null,
      "outputs": []
    },
    {
      "cell_type": "markdown",
      "source": [
        "####Continue & Break statement"
      ],
      "metadata": {
        "id": "qbaZspss98Jx"
      }
    },
    {
      "cell_type": "code",
      "source": [
        "i =1\n",
        "while i<=10:\n",
        "  print(i)\n",
        "  if i==7:\n",
        "    break \n",
        "  i+=1"
      ],
      "metadata": {
        "id": "XmE_4417-Alr"
      },
      "execution_count": null,
      "outputs": []
    },
    {
      "cell_type": "code",
      "source": [
        "i=[1,2,3,4,5,6,7,8,9]\n",
        "for i in i:\n",
        "  print(i)"
      ],
      "metadata": {
        "id": "RpAYxeZiFMLn"
      },
      "execution_count": null,
      "outputs": []
    },
    {
      "cell_type": "code",
      "source": [
        "range(7)"
      ],
      "metadata": {
        "id": "a_HC52mRF1H8"
      },
      "execution_count": null,
      "outputs": []
    },
    {
      "cell_type": "markdown",
      "source": [
        "###Strings"
      ],
      "metadata": {
        "id": "ps0cYP94rEwr"
      }
    },
    {
      "cell_type": "code",
      "source": [
        "a=\"Esraa Sultan\""
      ],
      "metadata": {
        "id": "npgAAxz7ocr2"
      },
      "execution_count": null,
      "outputs": []
    },
    {
      "cell_type": "code",
      "source": [
        "#indxing\n",
        "a[0],a[11]"
      ],
      "metadata": {
        "id": "CLm26i0trQOk"
      },
      "execution_count": null,
      "outputs": []
    },
    {
      "cell_type": "code",
      "source": [
        "len(a)"
      ],
      "metadata": {
        "id": "GZtms1ZZrSMC"
      },
      "execution_count": null,
      "outputs": []
    },
    {
      "cell_type": "code",
      "source": [
        "a.split(' ')"
      ],
      "metadata": {
        "id": "JM5TicE6EA5s"
      },
      "execution_count": null,
      "outputs": []
    },
    {
      "cell_type": "code",
      "source": [
        "#Negative indaxing\n",
        "a[-6],a[-1]"
      ],
      "metadata": {
        "id": "WcirxzHlrSeQ"
      },
      "execution_count": null,
      "outputs": []
    },
    {
      "cell_type": "code",
      "source": [
        "#Slicing\n",
        "(a[0:5],a[6:12]),(a[:5],a[6:])# it's the same "
      ],
      "metadata": {
        "id": "_mxACKEvsxZJ"
      },
      "execution_count": null,
      "outputs": []
    },
    {
      "cell_type": "code",
      "source": [
        "#Stiding \n",
        "#to skip some characters [start:end:step]\n",
        "a[0:5:2]"
      ],
      "metadata": {
        "id": "8WvyxNO_rSsr"
      },
      "execution_count": null,
      "outputs": []
    },
    {
      "cell_type": "code",
      "source": [
        "#Concatenate\n",
        "a='Esraa'\n",
        "b='Sultan'\n",
        "c=a+' '+b\n",
        "c"
      ],
      "metadata": {
        "id": "XMuOuFos-f3-"
      },
      "execution_count": null,
      "outputs": []
    },
    {
      "cell_type": "markdown",
      "source": [
        "####Operation"
      ],
      "metadata": {
        "id": "iyMbP5eH_Xqs"
      }
    },
    {
      "cell_type": "code",
      "source": [
        "4* \" Hello\""
      ],
      "metadata": {
        "id": "d9FyZbuYrS5c"
      },
      "execution_count": null,
      "outputs": []
    },
    {
      "cell_type": "code",
      "source": [
        "msg=\"Hello World!\"\n",
        "u_case=msg.upper()\n",
        "l_case=msg.lower()\n",
        "t_case=msg.title()\n",
        "\n",
        "\n",
        "u_case,l_case,t_case"
      ],
      "metadata": {
        "id": "NrpZmGR4rTPM"
      },
      "execution_count": null,
      "outputs": []
    },
    {
      "cell_type": "code",
      "source": [
        "msg.replace(\"Hello\",'Hi')\n",
        "msg"
      ],
      "metadata": {
        "id": "38GnSH-FATo7"
      },
      "execution_count": null,
      "outputs": []
    },
    {
      "cell_type": "code",
      "source": [
        "msg.find(\"rl\")"
      ],
      "metadata": {
        "id": "55ZejPjvAu9t"
      },
      "execution_count": null,
      "outputs": []
    },
    {
      "cell_type": "code",
      "source": [
        "a=\"abcdefg\"\n",
        "for i in range(len(a)):\n",
        "  print(a[i].upper())"
      ],
      "metadata": {
        "id": "4flbM_NoE_7B"
      },
      "execution_count": null,
      "outputs": []
    },
    {
      "cell_type": "code",
      "source": [
        "# fibonacii series\n",
        "## 0 1 1 2 3 5 8\n",
        " "
      ],
      "metadata": {
        "id": "EgJc3YLuFBJ6"
      },
      "execution_count": null,
      "outputs": []
    },
    {
      "cell_type": "code",
      "source": [
        "n = int(input(\"Enter a number:...\"))\n",
        "a=0\n",
        "b=1\n",
        "for i in range(n):\n",
        "  print(a,end=' ')\n",
        "  c=a+b\n",
        "  a=b\n",
        "  b=c"
      ],
      "metadata": {
        "id": "g3JheqyWFBWX"
      },
      "execution_count": null,
      "outputs": []
    },
    {
      "cell_type": "code",
      "source": [],
      "metadata": {
        "id": "I67-qOnnnhzH"
      },
      "execution_count": null,
      "outputs": []
    },
    {
      "cell_type": "markdown",
      "source": [
        "###Funcation\n"
      ],
      "metadata": {
        "id": "2pQ6bT3Ib5tH"
      }
    },
    {
      "cell_type": "code",
      "source": [
        "# simple\n",
        "def fun(a):\n",
        "  print(a)\n",
        "fun(\"Hello\")"
      ],
      "metadata": {
        "id": "pYMBm6YBb5cx"
      },
      "execution_count": null,
      "outputs": []
    },
    {
      "cell_type": "code",
      "source": [
        "#argument\n",
        "def add(a,b):\n",
        "  print(a+b)\n",
        "\n",
        "add(5,6)"
      ],
      "metadata": {
        "id": "2LM0nXLRFBlU"
      },
      "execution_count": null,
      "outputs": []
    },
    {
      "cell_type": "code",
      "source": [
        "#return statement\n",
        "def sub(a,b):\n",
        "  return(a-b)\n",
        "\n",
        "print(sub(5,3))"
      ],
      "metadata": {
        "id": "qmJDouSJFBwb"
      },
      "execution_count": null,
      "outputs": []
    },
    {
      "cell_type": "code",
      "source": [
        "#default argumnet\n",
        "def say(msg, times=1):\n",
        "  return(msg*times)\n",
        "\n",
        "say(\"Hi \",3),say(\"bay \")"
      ],
      "metadata": {
        "id": "rw5eYM5HFB-B"
      },
      "execution_count": null,
      "outputs": []
    },
    {
      "cell_type": "code",
      "source": [
        "#Reference \n",
        "def operator(a,b):\n",
        "  return(a*b)\n",
        "mult=operator\n",
        "operator(5,3)"
      ],
      "metadata": {
        "id": "rq5gNvOHlQZ2"
      },
      "execution_count": null,
      "outputs": []
    },
    {
      "cell_type": "code",
      "source": [
        "# funcation as argument \n",
        "def max(a,b):\n",
        "  return a if a>b else b\n",
        "\n",
        "\n",
        "def findMax(test,list1, list2):\n",
        "  return  test(test(list1[0],list1[1]),test(list2[0],list2[1]))\n",
        "#              max       2        3            4       5\n",
        "#          max               3                     5\n",
        "#                                       5\n",
        "findMax(max,[2,3],[4,5])"
      ],
      "metadata": {
        "id": "R32iwtvFmea_"
      },
      "execution_count": null,
      "outputs": []
    },
    {
      "cell_type": "code",
      "source": [
        "help(print)"
      ],
      "metadata": {
        "id": "IMpqZojW2s7t"
      },
      "execution_count": null,
      "outputs": []
    },
    {
      "cell_type": "code",
      "source": [
        "def hello():\n",
        "  \"\"\"\n",
        "this docstring will show when the help() function \n",
        "is use to explain the input, output and expression of the function\n",
        "ex: this function print Hello string\n",
        "  \"\"\"\n",
        "  print(\"Hello\")\n",
        "hello(),help(hello)"
      ],
      "metadata": {
        "id": "pDCO3VE42s4z"
      },
      "execution_count": null,
      "outputs": []
    },
    {
      "cell_type": "code",
      "source": [
        "#Lambda \n",
        "sub = lambda a , b : a-b\n",
        "sub(9,3)"
      ],
      "metadata": {
        "id": "3NNF1I3Y2s2S"
      },
      "execution_count": null,
      "outputs": []
    },
    {
      "cell_type": "code",
      "source": [
        "#Filter --> work like search on the list based on some expression\n",
        "l=[11,22,33,44,55,66,77,88,99]\n",
        "\n",
        "mode22=list(filter(lambda x:x%2==0,l))\n",
        "mode22"
      ],
      "metadata": {
        "id": "-XymJPWJ2sy6"
      },
      "execution_count": null,
      "outputs": []
    },
    {
      "cell_type": "code",
      "source": [
        "l=[11,22,33,44,55,66,77,88,99]\n",
        "\n",
        "mode22=list(filter(lambda x:x%2==0,l))\n",
        "mode22"
      ],
      "metadata": {
        "id": "sjdl7LIxDsOh"
      },
      "execution_count": null,
      "outputs": []
    },
    {
      "cell_type": "code",
      "source": [
        "#Map --> work like search and add some opretion on the list \n",
        "l=[11,22,33,44,55,66,77,88,99]\n",
        "times2=list(map(lambda x:x*2,l))\n",
        "times2"
      ],
      "metadata": {
        "id": "GyZGytAK2sv9"
      },
      "execution_count": null,
      "outputs": []
    }
  ]
}