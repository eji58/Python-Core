{
  "nbformat": 4,
  "nbformat_minor": 0,
  "metadata": {
    "colab": {
      "name": "4 built-in data types.ipynb",
      "private_outputs": true,
      "provenance": [],
      "toc_visible": true,
      "authorship_tag": "ABX9TyOr6DJ1iB/4GXfrVtj+Q/qF",
      "include_colab_link": true
    },
    "kernelspec": {
      "name": "python3",
      "display_name": "Python 3"
    },
    "language_info": {
      "name": "python"
    }
  },
  "cells": [
    {
      "cell_type": "markdown",
      "metadata": {
        "id": "view-in-github",
        "colab_type": "text"
      },
      "source": [
        "<a href=\"https://colab.research.google.com/github/eji58/Python-Core/blob/main/4_built_in_data_types.ipynb\" target=\"_parent\"><img src=\"https://colab.research.google.com/assets/colab-badge.svg\" alt=\"Open In Colab\"/></a>"
      ]
    },
    {
      "cell_type": "markdown",
      "source": [
        "#4 built-in data types in Python used to store collections of data\n",
        "* List-->ordered, changeable, and allow duplicate values.\n",
        "* Set-->unordered, unchangeable*, and unindexed.\n",
        "*Set items are unchangeable, but you can remove items and add new items.\n",
        "* Dictionary -->ordered, changeable and do not allow duplicates.\n",
        "* Tuple --> ordered and unchangeable, allow duplicate values.\n",
        "\n",
        "\n",
        "\n"
      ],
      "metadata": {
        "id": "KlmWd1y3njd_"
      }
    },
    {
      "cell_type": "markdown",
      "source": [
        "###List"
      ],
      "metadata": {
        "id": "2yufFVznDbto"
      }
    },
    {
      "cell_type": "code",
      "source": [
        "l=[1,2,3,4,5,6]"
      ],
      "metadata": {
        "id": "bylPWcJO-AyK"
      },
      "execution_count": null,
      "outputs": []
    },
    {
      "cell_type": "code",
      "source": [
        "l1=['a','b',1,2,3,4,5,6]"
      ],
      "metadata": {
        "id": "-u31ViuC-A8_"
      },
      "execution_count": null,
      "outputs": []
    },
    {
      "cell_type": "code",
      "source": [
        "l1[2]"
      ],
      "metadata": {
        "id": "jSBYXczY-BHq"
      },
      "execution_count": null,
      "outputs": []
    },
    {
      "cell_type": "code",
      "source": [
        "l1[2:5]"
      ],
      "metadata": {
        "id": "xiUFL_cq-BS4"
      },
      "execution_count": null,
      "outputs": []
    },
    {
      "cell_type": "code",
      "source": [
        "len(l)"
      ],
      "metadata": {
        "id": "-QS7NWqGEAS8"
      },
      "execution_count": null,
      "outputs": []
    },
    {
      "cell_type": "code",
      "source": [
        "sum(l)"
      ],
      "metadata": {
        "id": "qT9VPpguEB_U"
      },
      "execution_count": null,
      "outputs": []
    },
    {
      "cell_type": "code",
      "source": [
        "max(l),min(l)"
      ],
      "metadata": {
        "id": "4ldgKI89EHvj"
      },
      "execution_count": null,
      "outputs": []
    },
    {
      "cell_type": "code",
      "source": [
        "l=[1,2,3,4,5,6,7,8,9,10]"
      ],
      "metadata": {
        "id": "eZ7ZITEaEpZv"
      },
      "execution_count": null,
      "outputs": []
    },
    {
      "cell_type": "code",
      "source": [
        "# insert() index,item\n",
        "print(l)\n",
        "l.insert(9,0)\n",
        "print(l)"
      ],
      "metadata": {
        "id": "PcqrX0gIEpVk"
      },
      "execution_count": null,
      "outputs": []
    },
    {
      "cell_type": "code",
      "source": [
        "# index() \n",
        "print(l.index(3))# item"
      ],
      "metadata": {
        "id": "S9f1Ye6kDLMX"
      },
      "execution_count": null,
      "outputs": []
    },
    {
      "cell_type": "code",
      "source": [
        "\n",
        "# reverse()\n",
        "l.reverse()\n",
        "print(l)"
      ],
      "metadata": {
        "id": "EHeRftlTDMhc"
      },
      "execution_count": null,
      "outputs": []
    },
    {
      "cell_type": "code",
      "source": [
        "# count()\n",
        "print(l.count(0)) # count the no. of items"
      ],
      "metadata": {
        "id": "LwgPWjV6DJKt"
      },
      "execution_count": null,
      "outputs": []
    },
    {
      "cell_type": "code",
      "source": [
        "# sort()\n",
        "l.sort()\n",
        "print(l)"
      ],
      "metadata": {
        "id": "pNPRUtxBDGUL"
      },
      "execution_count": null,
      "outputs": []
    },
    {
      "cell_type": "code",
      "source": [
        "l = [\"A\",\"C\",\"D\",\"B\"]\n",
        "\"+\".join(l)"
      ],
      "metadata": {
        "id": "etN_3MopDE6S"
      },
      "execution_count": null,
      "outputs": []
    },
    {
      "cell_type": "code",
      "source": [
        "#search on the list\n",
        "4 in l, 33 in l"
      ],
      "metadata": {
        "id": "VoasbDu2Tqkd"
      },
      "execution_count": null,
      "outputs": []
    },
    {
      "cell_type": "markdown",
      "source": [
        "###Dictionary"
      ],
      "metadata": {
        "id": "zqfq4_mkEmDl"
      }
    },
    {
      "cell_type": "code",
      "source": [
        "# key: value unordered sequence\n",
        "a={\"A\":\"a\",\"B\":\"b\",\"C\":\"c\"}\n",
        "a"
      ],
      "metadata": {
        "id": "xoX9qXjgEtiq"
      },
      "execution_count": null,
      "outputs": []
    },
    {
      "cell_type": "code",
      "source": [
        "a[\"A\"]# by kay only"
      ],
      "metadata": {
        "id": "1SQ_6ebvFzRu"
      },
      "execution_count": null,
      "outputs": []
    },
    {
      "cell_type": "code",
      "source": [
        "colors={\n",
        "    \"R\":[255,0,0],\n",
        "    \"B\":[0,255,0],\n",
        "    \"G\":[0,0,255],\n",
        "    \n",
        "}\n",
        "colors[\"G\"]"
      ],
      "metadata": {
        "id": "rM1pgPLBGCOw"
      },
      "execution_count": null,
      "outputs": []
    },
    {
      "cell_type": "code",
      "source": [
        "len(colors),len(colors[\"R\"])\n",
        "#[\"R\",\"B\",\"G\"],[255,0,0]"
      ],
      "metadata": {
        "id": "ifmT7WPAGCKy"
      },
      "execution_count": null,
      "outputs": []
    },
    {
      "cell_type": "code",
      "source": [
        "#duplication\n",
        "r = {\n",
        "    3:\"A\",\n",
        "    2:\"Zara\",\n",
        "    3:\"goa\", #here\n",
        "    \"raw\":77}\n",
        "print(len(r))\n",
        "print(r)\n"
      ],
      "metadata": {
        "id": "iil_dmo-IuTB"
      },
      "execution_count": null,
      "outputs": []
    },
    {
      "cell_type": "code",
      "source": [
        "p = {1: \"Apple\", \"orange\": [2,3,4], \"2\": 3}\n",
        "p.get(1,\"None\"),p.get(2,\"not found\")"
      ],
      "metadata": {
        "id": "CUpD7_IMGCG_"
      },
      "execution_count": null,
      "outputs": []
    },
    {
      "cell_type": "code",
      "source": [
        "list(p.keys()),list(p.values())"
      ],
      "metadata": {
        "id": "H-rLdc04GCB3"
      },
      "execution_count": null,
      "outputs": []
    },
    {
      "cell_type": "code",
      "source": [
        "p.clear()\n",
        "p"
      ],
      "metadata": {
        "id": "tLwBpOP_GB-O"
      },
      "execution_count": null,
      "outputs": []
    },
    {
      "cell_type": "markdown",
      "source": [
        "###Tuple"
      ],
      "metadata": {
        "id": "PeF8NtPpLTnL"
      }
    },
    {
      "cell_type": "code",
      "source": [
        "t=(1,2,3,4,5)\n",
        "t[2]"
      ],
      "metadata": {
        "id": "-OxfNwC-GB5D"
      },
      "execution_count": null,
      "outputs": []
    },
    {
      "cell_type": "code",
      "source": [
        "a=1,2,3,4\n",
        "a, type(a)"
      ],
      "metadata": {
        "id": "KdduuAufMTz2"
      },
      "execution_count": null,
      "outputs": []
    },
    {
      "cell_type": "code",
      "source": [
        "#Unpacking\n",
        "b,c,d,f=a\n",
        "b,c,d,f,type(b)"
      ],
      "metadata": {
        "id": "8MGn3NdyMp40"
      },
      "execution_count": null,
      "outputs": []
    },
    {
      "cell_type": "code",
      "source": [
        "b,c=c,b\n",
        "b,c"
      ],
      "metadata": {
        "id": "pSuWC68jqqV9"
      },
      "execution_count": null,
      "outputs": []
    },
    {
      "cell_type": "code",
      "source": [
        "z= 'a','b','c','d'\n",
        "type(z)"
      ],
      "metadata": {
        "id": "2W5pdLkRNwTT"
      },
      "execution_count": null,
      "outputs": []
    },
    {
      "cell_type": "code",
      "source": [
        "#Slicing\n",
        "z[2:4]\n"
      ],
      "metadata": {
        "id": "C6vAuhcDqqSq"
      },
      "execution_count": null,
      "outputs": []
    },
    {
      "cell_type": "code",
      "source": [
        "#functions\n",
        "h=1,2,5,3,4,5,6,7,8,0\n",
        "len(h),max(h),min(h),sum(h)"
      ],
      "metadata": {
        "id": "Dfd_4gt5qqPp"
      },
      "execution_count": null,
      "outputs": []
    },
    {
      "cell_type": "code",
      "source": [
        "#method\n",
        "h.count(5),h.index(0)"
      ],
      "metadata": {
        "id": "FRC7rCeLqqMZ"
      },
      "execution_count": null,
      "outputs": []
    },
    {
      "cell_type": "code",
      "source": [
        "#change to list to edit\n",
        "h=list(h)\n",
        "type(h)"
      ],
      "metadata": {
        "id": "cFh0llwCqqIv"
      },
      "execution_count": null,
      "outputs": []
    },
    {
      "cell_type": "code",
      "source": [
        "h.remove(0)\n",
        "h"
      ],
      "metadata": {
        "id": "eAcbTLFNthox"
      },
      "execution_count": null,
      "outputs": []
    },
    {
      "cell_type": "markdown",
      "source": [
        "###Set\n"
      ],
      "metadata": {
        "id": "T7gBEekmmU1L"
      }
    },
    {
      "cell_type": "code",
      "source": [
        "s={11,22,33,88,44,55,66,77,88}\n",
        "type(s)"
      ],
      "metadata": {
        "id": "muC-aRiLmaaQ"
      },
      "execution_count": null,
      "outputs": []
    },
    {
      "cell_type": "code",
      "source": [
        "for i in s:\n",
        "  print(i)"
      ],
      "metadata": {
        "id": "OXoOPLiWmUfz"
      },
      "execution_count": null,
      "outputs": []
    },
    {
      "cell_type": "code",
      "source": [
        "#functions\n",
        "len(s),max(s),min(s),sum(s)\n"
      ],
      "metadata": {
        "id": "TwaY4Ii7yKxe"
      },
      "execution_count": null,
      "outputs": []
    },
    {
      "cell_type": "code",
      "source": [
        "# Oparetion\n",
        "a={4,5,6,7,8,9}\n",
        "b={1,2,3,4,5,6}\n",
        "# union\n",
        "print(a | b)\n",
        "# intersection\n",
        "print(a & b)\n",
        "# difference\n",
        "print(a - b)\n",
        "print(b - a)\n",
        "# symmetric\n",
        "print(a ^ b)"
      ],
      "metadata": {
        "id": "Ray7yAUFvU_0"
      },
      "execution_count": null,
      "outputs": []
    },
    {
      "cell_type": "code",
      "source": [
        "#method\n",
        "# add\n",
        "s.add('a')\n",
        "print(s)\n",
        "# copy\n",
        "ss=s.copy()\n",
        "print(ss)\n",
        "# clear\n",
        "ss.clear()\n",
        "print(s,'  ',ss)\n",
        "# pop\n",
        "s.pop()\n",
        "print(s)\n",
        "# update\n",
        "y = {4,23,5,6}\n",
        "s.update(y)\n",
        "print(s)\n",
        "# remove\n",
        "s.remove('a')\n",
        "print(s)"
      ],
      "metadata": {
        "id": "f5hoM3Ety9Iw"
      },
      "execution_count": null,
      "outputs": []
    },
    {
      "cell_type": "code",
      "source": [
        "a = {1,2,3,4,5,6}\n",
        "b = {4,5,6}\n",
        "print(a==b)\n",
        "print(a <= b) #a is a subset of b\n",
        "print(b <= a)\n",
        "print(a<b) # a is proper subset of b\n",
        "print(a!=b)\n"
      ],
      "metadata": {
        "id": "eSXyhWrp9EtG"
      },
      "execution_count": null,
      "outputs": []
    },
    {
      "cell_type": "code",
      "source": [
        "# Frozenset\n",
        "s= frozenset({1,2,3}) # immutable\n",
        "type(s), #s.add(5) not allowed"
      ],
      "metadata": {
        "id": "klRzM2eW2kka"
      },
      "execution_count": null,
      "outputs": []
    }
  ]
}